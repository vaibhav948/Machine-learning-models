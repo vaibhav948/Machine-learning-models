{
 "cells": [
  {
   "cell_type": "code",
   "execution_count": null,
   "metadata": {
    "id": "GBe5Pr2lPZOf"
   },
   "outputs": [],
   "source": [
    "import torch\n",
    "from torch import nn"
   ]
  },
  {
   "cell_type": "code",
   "execution_count": null,
   "metadata": {
    "id": "RJAGlF9SPfo_"
   },
   "outputs": [],
   "source": [
    "import torchvision\n",
    "from torchvision import datasets\n",
    "from torchvision import transforms\n",
    "from torchvision.transforms import ToTensor\n",
    "\n",
    "import matplotlib.pyplot as plt"
   ]
  },
  {
   "cell_type": "markdown",
   "metadata": {
    "id": "3TxbLYHsPm7X"
   },
   "source": [
    "### getting the datasets"
   ]
  },
  {
   "cell_type": "code",
   "execution_count": null,
   "metadata": {
    "colab": {
     "base_uri": "https://localhost:8080/"
    },
    "id": "HcaZDDqjPhki",
    "outputId": "de1ab11f-ee13-40f2-d753-390bbbd7726a"
   },
   "outputs": [],
   "source": [
    "train_data = datasets.FashionMNIST(\n",
    "    root='data',\n",
    "    train=True,\n",
    "    download=True,\n",
    "    transform=torchvision.transforms.ToTensor(),\n",
    "    target_transform=None\n",
    ")\n",
    "\n",
    "test_data = datasets.FashionMNIST(\n",
    "    root='data',\n",
    "    train=False,\n",
    "    download=True,\n",
    "    transform=torchvision.transforms.ToTensor(),\n",
    "    target_transform=None\n",
    ")"
   ]
  },
  {
   "cell_type": "code",
   "execution_count": null,
   "metadata": {
    "colab": {
     "base_uri": "https://localhost:8080/"
    },
    "id": "-NVhFe9GPqxi",
    "outputId": "7191c4c4-1bcd-40be-dc4b-f3ad6bf7189b"
   },
   "outputs": [],
   "source": [
    "train_data"
   ]
  },
  {
   "cell_type": "code",
   "execution_count": null,
   "metadata": {
    "colab": {
     "base_uri": "https://localhost:8080/"
    },
    "id": "Jb6aDRy7Psd-",
    "outputId": "3256516e-18a9-4d6d-dca8-0906458edc9a"
   },
   "outputs": [],
   "source": [
    "class_names = train_data.classes\n",
    "class_names"
   ]
  },
  {
   "cell_type": "code",
   "execution_count": null,
   "metadata": {
    "colab": {
     "base_uri": "https://localhost:8080/"
    },
    "id": "odq6bVThPud_",
    "outputId": "ceda6b94-2c5a-4e56-b9f2-c94ff0590656"
   },
   "outputs": [],
   "source": [
    "class_toidx = train_data.class_to_idx\n",
    "class_toidx"
   ]
  },
  {
   "cell_type": "code",
   "execution_count": null,
   "metadata": {
    "colab": {
     "base_uri": "https://localhost:8080/"
    },
    "id": "REu3hqnOPwOb",
    "outputId": "c1b3000e-d9c1-4c8b-b853-4ac20d588d6f"
   },
   "outputs": [],
   "source": [
    "train_data.targets"
   ]
  },
  {
   "cell_type": "markdown",
   "metadata": {
    "id": "wpHdgp7sPyVU"
   },
   "source": [
    "### visualizing data"
   ]
  },
  {
   "cell_type": "code",
   "execution_count": null,
   "metadata": {
    "colab": {
     "base_uri": "https://localhost:8080/",
     "height": 469
    },
    "id": "h0wMpQlPPzgL",
    "outputId": "e8a5d970-248e-4edc-bf65-7d587bdacc5b"
   },
   "outputs": [],
   "source": [
    "import matplotlib.pyplot as plt\n",
    "image, label = train_data[0]\n",
    "print(f\"image shape : {image.shape}\")\n",
    "plt.imshow(image.squeeze())\n",
    "plt.title(label)\n",
    "plt.show()"
   ]
  },
  {
   "cell_type": "code",
   "execution_count": null,
   "metadata": {
    "colab": {
     "base_uri": "https://localhost:8080/",
     "height": 469
    },
    "id": "3DmyGRnrP3B2",
    "outputId": "fdd6fe3d-c2af-4023-a6d2-0886fd213cec"
   },
   "outputs": [],
   "source": [
    "plt.imshow(image.squeeze() , cmap=\"gray\")\n",
    "plt.title(class_names[label])"
   ]
  },
  {
   "cell_type": "code",
   "execution_count": null,
   "metadata": {
    "colab": {
     "base_uri": "https://localhost:8080/",
     "height": 752
    },
    "id": "HgDAeqEjP4pQ",
    "outputId": "7c651d8d-73e9-420e-bec7-273494697c63"
   },
   "outputs": [],
   "source": [
    "torch.manual_seed(42)\n",
    "fig = plt.figure(figsize=(9 , 9))\n",
    "row , col = 4 , 4\n",
    "for i in range(1 , row * col + 1):\n",
    "  random_idx = torch.randint(0 , len(train_data) , size=[1]).item()\n",
    "  img , label = train_data[random_idx]\n",
    "  fig.add_subplot(row , col , i)\n",
    "  plt.imshow(img.squeeze() , cmap = \"gray\")\n",
    "  plt.title(class_names[label])\n",
    "  plt.axis(False)"
   ]
  },
  {
   "cell_type": "code",
   "execution_count": null,
   "metadata": {
    "id": "lWW-XM_xP6xn"
   },
   "outputs": [],
   "source": [
    "from torch.utils.data import DataLoader\n",
    "\n",
    "train_dataloader = DataLoader(dataset=train_data,\n",
    "                              batch_size=32,\n",
    "                              shuffle=True)\n",
    "\n",
    "test_dataloader = DataLoader(dataset=test_data,\n",
    "                             batch_size=32,\n",
    "                             shuffle=False)"
   ]
  },
  {
   "cell_type": "code",
   "execution_count": null,
   "metadata": {
    "colab": {
     "base_uri": "https://localhost:8080/"
    },
    "id": "sTrfoAMLP8af",
    "outputId": "c3473b2b-b528-483f-82e2-2a1b1c81ab4f"
   },
   "outputs": [],
   "source": [
    "train_features_batch , train_label_batch = next(iter(train_dataloader))\n",
    "train_features_batch.shape , train_label_batch.shape"
   ]
  },
  {
   "cell_type": "code",
   "execution_count": null,
   "metadata": {
    "colab": {
     "base_uri": "https://localhost:8080/",
     "height": 463
    },
    "id": "trB2fhHmP-AC",
    "outputId": "5b5083a6-0eda-4484-c672-35845e4be263"
   },
   "outputs": [],
   "source": [
    "# show sample\n",
    "torch.manual_seed(42)\n",
    "random_idx = torch.randint(0 , len(train_features_batch) , size = [1]).item()\n",
    "img , label = train_features_batch[random_idx] , train_label_batch[random_idx]\n",
    "plt.imshow(img.squeeze() , cmap = \"gray\")\n",
    "plt.title(class_names[label])\n",
    "plt.axis(False)\n",
    "print(f\"img size :{img.shape}\")\n",
    "print(f\"label : {label} , label_size : {label.shape}\")"
   ]
  },
  {
   "cell_type": "code",
   "execution_count": null,
   "metadata": {
    "colab": {
     "base_uri": "https://localhost:8080/"
    },
    "id": "dyNvuBJzQChX",
    "outputId": "9ba2da78-7b18-4d4a-dc89-10b7559178ef"
   },
   "outputs": [],
   "source": [
    "flatten_model = nn.Flatten()\n",
    "x = train_features_batch[0]\n",
    "\n",
    "output = flatten_model(x)\n",
    "print(f\"shape of train_features_batch : {train_features_batch.shape}\")\n",
    "print(f\"shape of output after flattening: { output.shape}\") ## it reduces the dimension by multiplying the the height and weight"
   ]
  },
  {
   "cell_type": "markdown",
   "metadata": {
    "id": "mlt7s_QNSH6R"
   },
   "source": [
    "### starting gpu \"cuda\""
   ]
  },
  {
   "cell_type": "code",
   "execution_count": null,
   "metadata": {
    "colab": {
     "base_uri": "https://localhost:8080/",
     "height": 36
    },
    "id": "CYPdqAiJSI3T",
    "outputId": "5e33010e-0282-4692-c216-c6a0f0051029"
   },
   "outputs": [],
   "source": [
    "device = \"cuda\" if torch.cuda.is_available() else \"cpu\"\n",
    "device"
   ]
  },
  {
   "cell_type": "markdown",
   "metadata": {
    "id": "LXVlcn8OQPqG"
   },
   "source": [
    "### building CNN model"
   ]
  },
  {
   "cell_type": "code",
   "execution_count": null,
   "metadata": {
    "id": "I-0RkqvLQQS7"
   },
   "outputs": [],
   "source": [
    "torch.manual_seed(42)\n",
    "\n",
    "class FMNISTCNNModelV0(nn.Module):\n",
    "  def __init__(self , input_shape , hidden_units , output_shapes):\n",
    "    super().__init__()\n",
    "    self.CNN_block1 = nn.Sequential(\n",
    "        nn.Conv2d(in_channels=input_shape,\n",
    "                  out_channels=hidden_units,\n",
    "                  kernel_size=3,\n",
    "                  stride=1,\n",
    "                  padding=1),\n",
    "        nn.ReLU(),\n",
    "        nn.Conv2d(in_channels=hidden_units,\n",
    "                  out_channels=hidden_units,\n",
    "                  kernel_size=3,\n",
    "                  stride=1,\n",
    "                  padding=1),\n",
    "        nn.ReLU(),\n",
    "        nn.MaxPool2d(kernel_size=2)\n",
    "    )\n",
    "\n",
    "    self.CNN_block2 = nn.Sequential(\n",
    "        nn.Conv2d(in_channels=hidden_units,\n",
    "                  out_channels=hidden_units,\n",
    "                  kernel_size=3,\n",
    "                  stride=1,\n",
    "                  padding=1),\n",
    "        nn.ReLU(),\n",
    "        nn.Conv2d(in_channels=hidden_units ,\n",
    "                  out_channels=hidden_units,\n",
    "                  kernel_size=3,\n",
    "                  stride=1,\n",
    "                  padding=1),\n",
    "        nn.ReLU(),\n",
    "        nn.MaxPool2d(kernel_size=2)\n",
    "    )\n",
    "\n",
    "    self.classifier=nn.Sequential(\n",
    "        nn.Flatten(),\n",
    "        nn.Linear(in_features=hidden_units * 7 * 7,\n",
    "                  out_features=output_shapes)\n",
    "    )\n",
    "\n",
    "  def forward(self, x):\n",
    "    x = self.CNN_block1(x)\n",
    "    # print(x.shape)\n",
    "    x = self.CNN_block2(x)\n",
    "    # print(x.shape)\n",
    "    x = self.classifier(x)\n",
    "    return x ;"
   ]
  },
  {
   "cell_type": "code",
   "execution_count": null,
   "metadata": {
    "id": "fLzT12WGQacq"
   },
   "outputs": [],
   "source": [
    "torch.manual_seed(42)\n",
    "modelCNN = FMNISTCNNModelV0(input_shape=1, ### it is the no. of color channels in are image\n",
    "                            hidden_units=10,\n",
    "                            output_shapes=len(class_names)).to(device)"
   ]
  },
  {
   "cell_type": "code",
   "execution_count": null,
   "metadata": {
    "colab": {
     "base_uri": "https://localhost:8080/"
    },
    "id": "ZEceZo6_Qdkv",
    "outputId": "716fb3a1-73e2-4041-ed55-c14c88bfc803"
   },
   "outputs": [],
   "source": [
    "torch.manual_seed(42)\n",
    "images = torch.randn(size=(32 , 2 , 64 , 64))\n",
    "test_image = images[0]\n",
    "\n",
    "print(\"shape of images\" , images.shape)\n",
    "print(\"single image shape\" , test_image.shape)\n",
    "print(\"test image\\n\" , test_image)"
   ]
  },
  {
   "cell_type": "markdown",
   "metadata": {
    "id": "y7aAxZGHTOdp"
   },
   "source": [
    "### accuracy function"
   ]
  },
  {
   "cell_type": "code",
   "execution_count": null,
   "metadata": {
    "id": "IBmBG9e9TQkO"
   },
   "outputs": [],
   "source": [
    "def accuracy_fn(y_pred , y_true):\n",
    "\n",
    "  correct = (y_pred == y_true).sum().item()\n",
    "  total = y_true.size(0)\n",
    "  accuracy = correct / total * 100\n",
    "\n",
    "  return accuracy"
   ]
  },
  {
   "cell_type": "markdown",
   "metadata": {
    "id": "xCYmWe9PQvnp"
   },
   "source": [
    "## loss and optimizer"
   ]
  },
  {
   "cell_type": "code",
   "execution_count": null,
   "metadata": {
    "id": "fwqe_nBaQwJM"
   },
   "outputs": [],
   "source": [
    "# from helper_function import accuracy_fn\n",
    "\n",
    "loss_fn = nn.CrossEntropyLoss()\n",
    "optimizer = torch.optim.SGD(params= modelCNN.parameters() , lr = 0.1)"
   ]
  },
  {
   "cell_type": "markdown",
   "metadata": {
    "id": "33xUrwRIRxVF"
   },
   "source": [
    "### building the training and testing loop"
   ]
  },
  {
   "cell_type": "code",
   "execution_count": null,
   "metadata": {
    "id": "CafvyU8VRzBP"
   },
   "outputs": [],
   "source": [
    "def train_step(model : torch.nn.Module,\n",
    "               data_loader:torch.utils.data.DataLoader,\n",
    "               loss:torch.nn.Module,\n",
    "               optimizer:torch.optim.Optimizer,\n",
    "               accuracy_fn,\n",
    "               device:torch.device = device\n",
    "               ):\n",
    "\n",
    "  train_loss , train_acc = 0 , 0\n",
    "  for batch ,(X , y) in enumerate(data_loader):\n",
    "    X , y = X.to(device) , y.to(device)\n",
    "    model.train()\n",
    "\n",
    "    y_pred = model(X)\n",
    "\n",
    "    loss = loss_fn(y_pred , y)\n",
    "    train_loss += loss\n",
    "    train_acc += accuracy_fn(y , y_pred.argmax(dim = 1))\n",
    "\n",
    "    optimizer.zero_grad()\n",
    "    loss.backward()\n",
    "    optimizer.step()\n",
    "\n",
    "    if batch % 400 == 0:\n",
    "      print(f\"looked at {batch *len(X)} / {len(train_dataloader.dataset)} samples\")\n",
    "\n",
    "  train_loss /= len(data_loader)\n",
    "  train_acc /= len(data_loader)\n",
    "\n",
    "  print(f\"train_loss :{train_loss} | train_acc :{train_acc:.2f}%\")"
   ]
  },
  {
   "cell_type": "code",
   "execution_count": null,
   "metadata": {
    "id": "UTiRXYIOR1qh"
   },
   "outputs": [],
   "source": [
    "def test_step(model : torch.nn.Module,\n",
    "               data_loader:torch.utils.data.DataLoader,\n",
    "               loss:torch.nn.Module,\n",
    "               optimizer:torch.optim.Optimizer,\n",
    "               accuracy_fn,\n",
    "               device:torch.device = device\n",
    "               ):\n",
    "  model.eval()\n",
    "  test_loss = 0\n",
    "  test_acc = 0\n",
    "  with torch.inference_mode():\n",
    "    for X_test , y_test in data_loader :\n",
    "      X_test , y_test = X_test.to(device) , y_test.to(device)\n",
    "      test_pred = model(X_test)\n",
    "\n",
    "      test_loss += loss_fn(test_pred , y_test)\n",
    "\n",
    "      test_acc += accuracy_fn(y_true = y_test , y_pred = test_pred.argmax(dim = 1))\n",
    "\n",
    "\n",
    "    test_loss /= len(test_dataloader)\n",
    "    test_acc /= len(test_dataloader)\n",
    "\n",
    "    print(f\"test_loss: {test_loss:.5f} | test_acc: {test_acc:.2f}%\")"
   ]
  },
  {
   "cell_type": "markdown",
   "metadata": {
    "id": "jexPDsa1Q0Cr"
   },
   "source": [
    "### training and testing loop"
   ]
  },
  {
   "cell_type": "code",
   "execution_count": null,
   "metadata": {
    "colab": {
     "base_uri": "https://localhost:8080/",
     "height": 517,
     "referenced_widgets": [
      "0782f246b4c947c1ab3e4812767f91ae",
      "ace605c5cc2c4083a8633df0655f32f1",
      "291cc2bf662741ecbb8ecc1ad0a9a09a",
      "2eb302876b6048919af00ca561741575",
      "70fe99205ee149709574767995f1c1c4",
      "d1804f77df02477399b769c7e7e6a199",
      "7d6889f6fb434350b9ae5e8af7e3cf32",
      "73c7caac48004e3a84d16b0ed96e0bc8",
      "840f5fbea890432aa54a9081f9f3ce50",
      "d4db74733d5a4c8aaf304fe3c737aaac",
      "08324cdf92af4a07936f1133baee799b"
     ]
    },
    "id": "HmZsSqnAQ26a",
    "outputId": "e3e5ccb9-05bb-47cd-9392-31d48beab5bf"
   },
   "outputs": [],
   "source": [
    "torch.manual_seed(42)\n",
    "torch.cuda.manual_seed(42)\n",
    "\n",
    "from tqdm.auto import tqdm\n",
    "from timeit import default_timer as timer\n",
    "train_time_start_modelCNN = timer()\n",
    "\n",
    "epochs = 3 ;\n",
    "for epoch in tqdm(range(epochs)):\n",
    "  print(f\"epoch : {epoch} \\n -------\")\n",
    "  train_step(model= modelCNN,\n",
    "             data_loader=train_dataloader,\n",
    "             loss=loss_fn,\n",
    "             optimizer=optimizer,\n",
    "             accuracy_fn=accuracy_fn,\n",
    "             device=device)\n",
    "\n",
    "  test_step(model=modelCNN,\n",
    "            data_loader=test_dataloader,\n",
    "            loss=loss_fn,\n",
    "            optimizer=optimizer,\n",
    "            accuracy_fn=accuracy_fn,\n",
    "            device=device)\n",
    "\n",
    "train_time_end_modelCNN = timer()\n",
    "total_train_time_modelCNN = train_time_end_modelCNN - train_time_start_modelCNN"
   ]
  },
  {
   "cell_type": "markdown",
   "metadata": {
    "id": "oV3nlHwjRA8D"
   },
   "source": [
    "### make predictions using our model"
   ]
  },
  {
   "cell_type": "code",
   "execution_count": null,
   "metadata": {
    "id": "16xJsj4uRHT-"
   },
   "outputs": [],
   "source": [
    "def make_pred(model:torch.nn.Module,\n",
    "              data:list,\n",
    "              device:torch.device=device):\n",
    "  pred_probs = []\n",
    "  model.eval()\n",
    "  with torch.inference_mode():\n",
    "    for sample in data:\n",
    "      sample = torch.unsqueeze(sample , dim = 1).to(device)\n",
    "\n",
    "      pred_logits = model(sample)\n",
    "      pred_prob = torch.softmax(pred_logits.squeeze() , dim = 0)\n",
    "      pred_probs.append(pred_prob.cpu())\n",
    "\n",
    "  ## stack the pred rpobs to turn it into a tensor\n",
    "  return torch.stack(pred_probs)"
   ]
  },
  {
   "cell_type": "code",
   "execution_count": null,
   "metadata": {
    "id": "_d-KcGzoRJTX"
   },
   "outputs": [],
   "source": [
    "import random\n",
    "random.seed(42)\n",
    "test_samples = []\n",
    "test_labels = []\n",
    "for sample , label in random.sample(list(test_data) , k = 9):\n",
    "  test_samples.append(sample)\n",
    "  test_labels.append(label)"
   ]
  },
  {
   "cell_type": "code",
   "execution_count": null,
   "metadata": {
    "colab": {
     "base_uri": "https://localhost:8080/",
     "height": 447
    },
    "id": "rezTiVCVRLH1",
    "outputId": "d1ce0d00-3cde-44b2-c659-dcdaed184f3f"
   },
   "outputs": [],
   "source": [
    "plt.imshow(test_samples[0].squeeze() , cmap=\"gray\")"
   ]
  },
  {
   "cell_type": "code",
   "execution_count": null,
   "metadata": {
    "colab": {
     "base_uri": "https://localhost:8080/"
    },
    "id": "ILHcp7JlRNOY",
    "outputId": "1fc06b1d-f7cc-4f91-8b79-0aaa7704af0a"
   },
   "outputs": [],
   "source": [
    "pred_probs = make_pred(model=modelCNN,\n",
    "                       data= test_samples)\n",
    "\n",
    "pred_probs[:2]"
   ]
  },
  {
   "cell_type": "code",
   "execution_count": null,
   "metadata": {
    "colab": {
     "base_uri": "https://localhost:8080/"
    },
    "id": "E7KWiLTvRPP8",
    "outputId": "e3561df9-0dac-4a2f-9213-fa37a68e9f54"
   },
   "outputs": [],
   "source": [
    "pred_class = pred_probs.argmax(dim =1)\n",
    "pred_class"
   ]
  },
  {
   "cell_type": "code",
   "execution_count": null,
   "metadata": {
    "colab": {
     "base_uri": "https://localhost:8080/",
     "height": 749
    },
    "id": "VVOnvy_9RQuH",
    "outputId": "e16f10ec-24c0-43c4-867f-2330d529e106"
   },
   "outputs": [],
   "source": [
    "#plot predictions\n",
    "import matplotlib.pyplot as plt\n",
    "plt.figure(figsize=(9,9))\n",
    "nrow = 3\n",
    "ncol = 3\n",
    "for i, sample in enumerate(test_samples):\n",
    "  plt.subplot(nrow , ncol , i + 1)\n",
    "  plt.imshow(sample.squeeze() , cmap = \"gray\")\n",
    "\n",
    "  pred_label = class_names[pred_class[i]]\n",
    "  truth_label = class_names[test_labels[i]]\n",
    "\n",
    "  title_text= f\"pred: {pred_label} | truth :{truth_label}\"\n",
    "  if pred_label == truth_label:\n",
    "    plt.title(title_text , fontsize=10 , c = 'g')\n",
    "  else:\n",
    "    plt.title(title_text , fontsize=10 , c='r')\n",
    "  plt.axis(False)"
   ]
  },
  {
   "cell_type": "markdown",
   "metadata": {
    "id": "Rxe6WkF1RTQS"
   },
   "source": [
    "### plot the confusion matrix"
   ]
  },
  {
   "cell_type": "code",
   "execution_count": null,
   "metadata": {
    "colab": {
     "base_uri": "https://localhost:8080/",
     "height": 66,
     "referenced_widgets": [
      "28270934c8b3498687c819c914dc21a8",
      "3e9da73571a844439d6fa011a951fecf",
      "3364540c2ae0403eb821e718b44ee824",
      "9e7872299a2c442aa8c0fa14fdd417a9",
      "661a9bcf70d541aaaba12f9d532d3358",
      "d0a7093c1c394c21844b2c8fd75fb3b1",
      "2f060ff83f344401a719f3865d08ac01",
      "04dcbd45009c4cd4b5e7ea7ceff06c71",
      "a4716dd8721a485ca8813b83cc5c2d9d",
      "cdf973c46eae4212ab09d777ab21bb93",
      "24af8ee3cdbe4642a4bdec8a5b3e13f9"
     ]
    },
    "id": "CmJ1oYjiRUjL",
    "outputId": "f2916e81-f671-4acd-ea2d-ece403fd2c07"
   },
   "outputs": [],
   "source": [
    "from tqdm.auto import tqdm\n",
    "\n",
    "modelCNN.eval()\n",
    "\n",
    "y_preds = []\n",
    "with torch.inference_mode():\n",
    "  for X , y in tqdm(test_dataloader , desc = \"MAking predictions----\"):\n",
    "    X , y = X.to(device) , y.to(device)\n",
    "\n",
    "    y_logits = modelCNN(X)\n",
    "    y_pred = torch.softmax(y_logits.squeeze() , dim = 0).argmax(dim=1)\n",
    "\n",
    "    y_preds.append(y_pred.cpu())\n",
    "\n",
    "y_pred_tensor = torch.cat(y_preds)\n",
    "y_pred_tensor"
   ]
  },
  {
   "cell_type": "code",
   "execution_count": null,
   "metadata": {
    "colab": {
     "base_uri": "https://localhost:8080/"
    },
    "id": "yt3XpzSURZ11",
    "outputId": "cacf2d08-bd1f-428b-f6d8-7a8f9f8889dd"
   },
   "outputs": [],
   "source": [
    "!pip install torchmetrics -U mlxtend"
   ]
  },
  {
   "cell_type": "code",
   "execution_count": null,
   "metadata": {
    "id": "4zuWM5xzRc76"
   },
   "outputs": [],
   "source": [
    "import torchmetrics , mlxtend"
   ]
  },
  {
   "cell_type": "code",
   "execution_count": null,
   "metadata": {
    "colab": {
     "base_uri": "https://localhost:8080/"
    },
    "id": "1IeRnVBeRevU",
    "outputId": "8eedd07d-a19e-4dca-a5af-7a7d64ced993"
   },
   "outputs": [],
   "source": [
    "mlxtend.__version__"
   ]
  },
  {
   "cell_type": "code",
   "execution_count": null,
   "metadata": {
    "colab": {
     "base_uri": "https://localhost:8080/",
     "height": 667
    },
    "id": "MtPbf0PYRgM7",
    "outputId": "e24f83f7-fa1a-4363-f902-03eefdbe2db3"
   },
   "outputs": [],
   "source": [
    "from torchmetrics import ConfusionMatrix\n",
    "from mlxtend.plotting import plot_confusion_matrix\n",
    "\n",
    "confmat = ConfusionMatrix(task=\"multiclass\" ,num_classes = len(class_names))\n",
    "confmat_tensor = confmat(preds = y_pred_tensor,\n",
    "                         target=test_data.targets)\n",
    "\n",
    "fig , ax = plot_confusion_matrix(conf_mat=confmat_tensor.numpy(),\n",
    "                                class_names=class_names,\n",
    "                                figsize=(10 ,7)\n",
    ")"
   ]
  }
 ],
 "metadata": {
  "colab": {
   "gpuType": "T4",
   "provenance": []
  },
  "kernelspec": {
   "display_name": "Python 3",
   "name": "python3"
  },
  "language_info": {
   "name": "python"
  }
 },
 "nbformat": 4,
 "nbformat_minor": 0
}
